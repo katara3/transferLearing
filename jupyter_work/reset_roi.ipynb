{
 "cells": [
  {
   "cell_type": "code",
   "execution_count": null,
   "metadata": {},
   "outputs": [],
   "source": [
    "import os\n",
    "import yaml\n",
    "import random\n",
    "import numpy as np\n",
    "import matplotlib.pyplot as plt\n",
    "from mdv.utils import *\n",
    "from PIL import Image, ImageDraw\n",
    "%matplotlib inline\n",
    "from IPython.display import Image \n",
    "\n",
    "args=dict()"
   ]
  },
  {
   "cell_type": "code",
   "execution_count": null,
   "metadata": {},
   "outputs": [],
   "source": [
    "trained_dataset = '/home/gtpark/Desktop/mdv_demo/dataset/first_dataset'\n",
    "new_dataset = '/home/gtpark/Desktop/mdv_demo/dataset/second_dataset'\n",
    "\n",
    "args['prod'] = 'FE'\n",
    "args['position'] = '10'"
   ]
  },
  {
   "cell_type": "code",
   "execution_count": null,
   "metadata": {},
   "outputs": [],
   "source": [
    "position = args['position']\n",
    "with open(os.path.join(trained_dataset,args['prod'],'roi_config','roi_config_'+position+'.yaml')) as f:\n",
    "    yaml_dict = yaml.load(f, Loader=yaml.FullLoader)\n",
    "    \n",
    "args['height'] = yaml_dict[position]['height']\n",
    "args['width'] = yaml_dict[position]['width']\n",
    "args['pos_sample_ratio'] = yaml_dict[position]['pos_sample_ratio']\n",
    "args['ng_case_list'] = yaml_dict[position]['ng_case_list']\n",
    "args['pos_case'] = yaml_dict[position]['pos_case']\n",
    "args['prod'] = yaml_dict[position]['prod']\n",
    "args['ng_case_ct'] = yaml_dict[position]['ng_case_ct']\n",
    "args['valid_split_ratio'] = yaml_dict[position]['valid_split_ratio']\n",
    "args['x1'] = yaml_dict[position]['x1']\n",
    "args['x2'] = yaml_dict[position]['x2']\n",
    "args['y1'] = yaml_dict[position]['y1']\n",
    "args['y2'] = yaml_dict[position]['y2']\n",
    "\n",
    "pil_img = Image(filename=os.path.join(trained_dataset,args['prod'],'train_sample',position+'.png'))\n",
    "print(\"Point: \"+position) \n",
    "print(\"학습에 사용됬던 이미지 입니다.\")\n",
    "display(pil_img)"
   ]
  },
  {
   "cell_type": "code",
   "execution_count": null,
   "metadata": {},
   "outputs": [],
   "source": [
    "print('기존 ROI 적용')\n",
    "\n",
    "args['width']=args['x2']-args['x1']\n",
    "args['height']=args['y2']-args['y1']\n",
    "\n",
    "draw_single_img(args,os.path.join(new_dataset,args['prod'],position,'OK'))\n",
    "print('')\n",
    "print('x1',args['x1'],'x2',args['x2'])\n",
    "print('y1',args['y1'],'y2',args['y2'])\n",
    "\n",
    "print('width',args['width'])\n",
    "print('height',args['height'])"
   ]
  },
  {
   "cell_type": "code",
   "execution_count": null,
   "metadata": {},
   "outputs": [],
   "source": [
    "print('변경 ROI')\n",
    "\n",
    "args['x1']=150\n",
    "args['x2']=500\n",
    "args['y1']=50\n",
    "args['y2']=400\n",
    "args['width']=args['x2']-args['x1']\n",
    "args['height']=args['y2']-args['y1']\n",
    "\n",
    "draw_single_img(args,os.path.join(new_dataset,args['prod'],position,'OK'))\n",
    "print('')\n",
    "print('width',args['width'])\n",
    "print('height',args['height'])"
   ]
  },
  {
   "cell_type": "code",
   "execution_count": null,
   "metadata": {
    "scrolled": true
   },
   "outputs": [],
   "source": [
    "rows=2\n",
    "cols=5\n",
    "sample_ct=rows*cols\n",
    "\n",
    "draw_multi_img(args,args['pos_case'],sample_ct,rows,cols)"
   ]
  },
  {
   "cell_type": "code",
   "execution_count": null,
   "metadata": {},
   "outputs": [],
   "source": [
    "#############################################"
   ]
  },
  {
   "cell_type": "code",
   "execution_count": null,
   "metadata": {},
   "outputs": [],
   "source": [
    "#############################################"
   ]
  },
  {
   "cell_type": "code",
   "execution_count": null,
   "metadata": {},
   "outputs": [],
   "source": [
    "config_path = os.path.join(new_dataset,args['prod'],'roi_config')  \n",
    "\n",
    "os.makedirs(config_path, exist_ok=True)\n",
    "with open(os.path.join(config_path, 'roi_config_'+position+'.yaml'), 'w') as fp:\n",
    "    c_prod=dict()\n",
    "    c_prod[position]=args\n",
    "    yaml.dump(c_prod, fp)"
   ]
  }
 ],
 "metadata": {
  "kernelspec": {
   "display_name": "Python 3",
   "language": "python",
   "name": "python3"
  },
  "language_info": {
   "codemirror_mode": {
    "name": "ipython",
    "version": 3
   },
   "file_extension": ".py",
   "mimetype": "text/x-python",
   "name": "python",
   "nbconvert_exporter": "python",
   "pygments_lexer": "ipython3",
   "version": "3.6.9"
  }
 },
 "nbformat": 4,
 "nbformat_minor": 4
}
