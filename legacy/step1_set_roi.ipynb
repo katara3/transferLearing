{
 "cells": [
  {
   "cell_type": "code",
   "execution_count": null,
   "metadata": {},
   "outputs": [],
   "source": [
    "import os\n",
    "import yaml\n",
    "import random\n",
    "import numpy as np\n",
    "import matplotlib.pyplot as plt\n",
    "from utils import *\n",
    "from PIL import Image, ImageDraw\n",
    "%matplotlib inline"
   ]
  },
  {
   "cell_type": "code",
   "execution_count": null,
   "metadata": {},
   "outputs": [],
   "source": [
    "args=dict()\n",
    "#args['prod'] = '06_C300'\n",
    "#args['prod'] = '05_FE'\n",
    "#args['prod'] = '01_HCYB'\n",
    "#args['prod'] = '02_X101 & X150'\n",
    "#args['prod'] = '02_X103 & X150'\n",
    "#args['prod'] = '03_X103 & X150'\n",
    "args['prod'] = '04_TMA & ON'\n",
    "\n",
    "\n",
    "#args['position'] = '12Position'\n",
    "args['position'] = '6Position'\n",
    "\n",
    "args['pos_sample_ratio'] = 0.8      # POS 샘플에서 몇퍼센트의 이미지를 가져올지, 1이면 전부, 0.8은 80%\n",
    "args['valid_split_ratio'] = 0.2     # 학습시 학습이미지와 검증이미지의 나누는 비율 설정 \n",
    "args['pos_case'] = os.path.join(args['prod'],args['position'],'OK')\n",
    "args['ng_case'] = os.path.join(args['prod'],args['position'],'NG')\n",
    "args['ng_case_ct'] = get_ng_case_ct(args)\n",
    "args['is_NG'] = True"
   ]
  },
  {
   "cell_type": "code",
   "execution_count": null,
   "metadata": {},
   "outputs": [],
   "source": [
    "args['x1']=230\n",
    "args['x2']=470\n",
    "args['y1']=140\n",
    "args['y2']=380\n",
    "\n",
    "args['width']=args['x2']-args['x1']\n",
    "args['height']=args['y2']-args['y1']\n",
    "\n",
    "draw_single_img(args,args['pos_case'])\n",
    "print('width',args['width'])\n",
    "print('height',args['height'])\n"
   ]
  },
  {
   "cell_type": "code",
   "execution_count": null,
   "metadata": {
    "scrolled": true
   },
   "outputs": [],
   "source": [
    "rows=2\n",
    "cols=5\n",
    "sample_ct=rows*cols\n",
    "\n",
    "draw_multi_img(args,args['pos_case'],sample_ct,rows,cols)"
   ]
  },
  {
   "cell_type": "code",
   "execution_count": null,
   "metadata": {
    "scrolled": true
   },
   "outputs": [],
   "source": [
    "rows=1\n",
    "cols=5\n",
    "sample_ct=rows*cols\n",
    "if args['ng_case_ct'] > 1:\n",
    "    for ng_case_img_path in os.listdir(args['ng_case'])[:2]:\n",
    "        for img_list in os.listdir(args['ng_case']):\n",
    "            draw_multi_img(args,os.path.join(args['ng_case'],img_list),sample_ct,rows,cols)\n",
    "else:\n",
    "    #NG폴더 하나\n",
    "    if len(os.listdir(args['ng_case'])) > 0:\n",
    "        for ng_case_img_path in os.listdir(args['ng_case'])[:2]:\n",
    "            if os.path.isfile(os.path.join(args['ng_case'],ng_case_img_path)):    \n",
    "                draw_multi_img(args,args['ng_case'],sample_ct,rows,cols)\n",
    "    else:\n",
    "        args['is_NG'] = False\n",
    "        print(\"NG 이미지가 없습니다.\")"
   ]
  },
  {
   "cell_type": "code",
   "execution_count": null,
   "metadata": {},
   "outputs": [],
   "source": [
    "#######################3"
   ]
  },
  {
   "cell_type": "code",
   "execution_count": null,
   "metadata": {},
   "outputs": [],
   "source": [
    "##################"
   ]
  },
  {
   "cell_type": "code",
   "execution_count": null,
   "metadata": {},
   "outputs": [],
   "source": [
    "config_path = os.path.join(args['prod'],'roi_config')  \n",
    "\n",
    "c_position=dict()\n",
    "if args['ng_case_ct'] > 1:\n",
    "    ng_case_list = list()\n",
    "    for idx in range(0,args['ng_case_ct']):\n",
    "        ng_case_list.append(os.path.join(args['ng_case'],'err{}'.format(idx+1)))\n",
    "    args['ng_case_list'] =  ng_case_list\n",
    "else:\n",
    "    args['ng_case_list'] = [args['ng_case']]\n",
    "\n",
    "position = args['position']\n",
    "del args['position']\n",
    "del args['ng_case']\n",
    "os.makedirs(config_path, exist_ok=True)\n",
    "with open(os.path.join(config_path, 'roi_config_'+position+'.yaml'), 'w') as fp:\n",
    "    c_prod=dict()\n",
    "    c_prod[position]=args\n",
    "    yaml.dump(c_prod, fp)"
   ]
  },
  {
   "cell_type": "code",
   "execution_count": null,
   "metadata": {},
   "outputs": [],
   "source": []
  },
  {
   "cell_type": "code",
   "execution_count": null,
   "metadata": {},
   "outputs": [],
   "source": []
  },
  {
   "cell_type": "code",
   "execution_count": null,
   "metadata": {},
   "outputs": [],
   "source": []
  }
 ],
 "metadata": {
  "kernelspec": {
   "display_name": "Python 3",
   "language": "python",
   "name": "python3"
  },
  "language_info": {
   "codemirror_mode": {
    "name": "ipython",
    "version": 3
   },
   "file_extension": ".py",
   "mimetype": "text/x-python",
   "name": "python",
   "nbconvert_exporter": "python",
   "pygments_lexer": "ipython3",
   "version": "3.6.9"
  }
 },
 "nbformat": 4,
 "nbformat_minor": 4
}
