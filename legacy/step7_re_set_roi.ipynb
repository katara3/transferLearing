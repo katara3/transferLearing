{
 "cells": [
  {
   "cell_type": "code",
   "execution_count": 1,
   "metadata": {},
   "outputs": [
    {
     "ename": "NameError",
     "evalue": "name 'path' is not defined",
     "output_type": "error",
     "traceback": [
      "\u001b[0;31m---------------------------------------------------------------------------\u001b[0m",
      "\u001b[0;31mNameError\u001b[0m                                 Traceback (most recent call last)",
      "\u001b[0;32m<ipython-input-1-2150fd537636>\u001b[0m in \u001b[0;36m<module>\u001b[0;34m\u001b[0m\n\u001b[1;32m     45\u001b[0m \u001b[0mtrain_path_list\u001b[0m \u001b[0;34m=\u001b[0m \u001b[0margs\u001b[0m\u001b[0;34m[\u001b[0m\u001b[0;34m'pos_case'\u001b[0m\u001b[0;34m]\u001b[0m\u001b[0;34m.\u001b[0m\u001b[0msplit\u001b[0m\u001b[0;34m(\u001b[0m\u001b[0;34m'/'\u001b[0m\u001b[0;34m)\u001b[0m\u001b[0;34m\u001b[0m\u001b[0;34m\u001b[0m\u001b[0m\n\u001b[1;32m     46\u001b[0m \u001b[0mtrain_path\u001b[0m \u001b[0;34m=\u001b[0m \u001b[0mtrain_path_list\u001b[0m\u001b[0;34m[\u001b[0m\u001b[0;36m0\u001b[0m\u001b[0;34m]\u001b[0m\u001b[0;34m+\u001b[0m\u001b[0;34m'/'\u001b[0m\u001b[0;34m+\u001b[0m\u001b[0mtrain_path_list\u001b[0m\u001b[0;34m[\u001b[0m\u001b[0;36m1\u001b[0m\u001b[0;34m]\u001b[0m\u001b[0;34m+\u001b[0m\u001b[0;34m'_ok'\u001b[0m\u001b[0;34m\u001b[0m\u001b[0;34m\u001b[0m\u001b[0m\n\u001b[0;32m---> 47\u001b[0;31m \u001b[0mtrain_file\u001b[0m \u001b[0;34m=\u001b[0m \u001b[0mos\u001b[0m\u001b[0;34m.\u001b[0m\u001b[0mlistdir\u001b[0m\u001b[0;34m(\u001b[0m\u001b[0mpath\u001b[0m\u001b[0;34m+\u001b[0m\u001b[0mtrain_path\u001b[0m\u001b[0;34m)\u001b[0m\u001b[0;34m\u001b[0m\u001b[0;34m\u001b[0m\u001b[0m\n\u001b[0m\u001b[1;32m     48\u001b[0m \u001b[0mpil_img\u001b[0m \u001b[0;34m=\u001b[0m \u001b[0mImage\u001b[0m\u001b[0;34m(\u001b[0m\u001b[0mfilename\u001b[0m\u001b[0;34m=\u001b[0m\u001b[0mpath\u001b[0m\u001b[0;34m+\u001b[0m\u001b[0mtrain_path\u001b[0m\u001b[0;34m+\u001b[0m\u001b[0;34m'/'\u001b[0m\u001b[0;34m+\u001b[0m\u001b[0mtrain_file\u001b[0m\u001b[0;34m[\u001b[0m\u001b[0;36m0\u001b[0m\u001b[0;34m]\u001b[0m\u001b[0;34m)\u001b[0m\u001b[0;34m\u001b[0m\u001b[0;34m\u001b[0m\u001b[0m\n\u001b[1;32m     49\u001b[0m \u001b[0mdisplay\u001b[0m\u001b[0;34m(\u001b[0m\u001b[0mpil_img\u001b[0m\u001b[0;34m)\u001b[0m\u001b[0;34m\u001b[0m\u001b[0;34m\u001b[0m\u001b[0m\n",
      "\u001b[0;31mNameError\u001b[0m: name 'path' is not defined"
     ]
    }
   ],
   "source": [
    "import os\n",
    "import yaml\n",
    "import random\n",
    "import numpy as np\n",
    "import matplotlib.pyplot as plt\n",
    "from utils import *\n",
    "from PIL import Image, ImageDraw\n",
    "%matplotlib inline\n",
    "from IPython.display import Image \n",
    "\n",
    "args=dict()\n",
    "args2=dict()\n",
    "args['prod'] = 'C300'\n",
    "#args['prod'] = 'FE'\n",
    "#args['prod'] = 'HCYB'\n",
    "#args['prod'] = 'X101 & X150'\n",
    "#args['prod'] = 'X103 & X150'\n",
    "#args['prod'] = 'TMA & ON'\n",
    "args['position'] = '2'\n",
    "\n",
    "args2['prod'] = args['prod']\n",
    "args2['position'] = args['position']\n",
    "check_default = 1\n",
    "\n",
    "position = args['position']\n",
    "with open(os.path.join(args['prod']+'/roi_config/roi_config_'+position+'.yaml')) as f:\n",
    "    yaml_dict = yaml.load(f, Loader=yaml.FullLoader)\n",
    "'''\n",
    "with open(os.path.join(args2['prod']+'/roi_config/roi_config_'+position+'.yaml')) as f:\n",
    "    yaml_dict2 = yaml.load(f, Loader=yaml.FullLoader)\n",
    "'''\n",
    "args['height'] = yaml_dict[position]['height']\n",
    "args['width'] = yaml_dict[position]['width']\n",
    "args['pos_sample_ratio'] = yaml_dict[position]['pos_sample_ratio']\n",
    "args['ng_case_list'] = yaml_dict[position]['ng_case_list']\n",
    "args['pos_case'] = yaml_dict[position]['pos_case']\n",
    "args['prod'] = yaml_dict[position]['prod']\n",
    "args['ng_case_ct'] = yaml_dict[position]['ng_case_ct']\n",
    "args['valid_split_ratio'] = yaml_dict[position]['valid_split_ratio']\n",
    "args['is_NG'] = yaml_dict[position]['is_NG']\n",
    "args['x1'] = yaml_dict[position]['x1']\n",
    "args['x2'] = yaml_dict[position]['x2']\n",
    "args['y1'] = yaml_dict[position]['y1']\n",
    "args['y2'] = yaml_dict[position]['y2']\n",
    "train_path_list = args['pos_case'].split('/')\n",
    "train_path = train_path_list[0]+'/'+train_path_list[1]+'_ok'\n",
    "train_file = os.listdir(path+train_path)\n",
    "pil_img = Image(filename=path+train_path+'/'+train_file[0])\n",
    "display(pil_img)\n",
    "\n",
    "'''\n",
    "print(yaml_dict,yaml_dict2)\n",
    "args2['height'] = yaml_dict2[position]['height']\n",
    "args2['width'] = yaml_dict2[position]['width']\n",
    "args2['pos_sample_ratio'] = yaml_dict2[position]['pos_sample_ratio']\n",
    "args2['ng_case_list'] = yaml_dict2[position]['ng_case_list']\n",
    "args2['pos_case'] = yaml_dict2[position]['pos_case']\n",
    "args2['prod'] = yaml_dict2[position]['prod']\n",
    "args2['ng_case_ct'] = yaml_dict2[position]['ng_case_ct']\n",
    "args2['valid_split_ratio'] = yaml_dict2[position]['valid_split_ratio']\n",
    "args2['is_NG'] = yaml_dict2[position]['is_NG']\n",
    "args2['x1'] = yaml_dict2[position]['x1']\n",
    "args2['x2'] = yaml_dict2[position]['x2']\n",
    "args2['y1'] = yaml_dict2[position]['y1']\n",
    "args2['y2'] = yaml_dict2[position]['y2']\n",
    "train_path_list2 = args2['pos_case'].split('/')\n",
    "'''"
   ]
  },
  {
   "cell_type": "code",
   "execution_count": null,
   "metadata": {
    "scrolled": true
   },
   "outputs": [],
   "source": [
    "a += 1\n",
    "if a % 2 == 0:\n",
    "    draw_single_img(args,args['pos_case'])\n",
    "    print(args['prod']+'_'+args['position']+'_after')\n",
    "else:\n",
    "    draw_single_img(args2,args2['pos_case'])\n",
    "    print(args['prod']+'_'+args['position']+'_before')\n",
    "if check_default == 1:\n",
    "    x = 0\n",
    "    y = 0\n",
    "    \n",
    "else:\n",
    "    x = 0\n",
    "    y = 0\n",
    "print(args['prod']+args['position'])\n",
    "args['x1'] = args['x1'] + x\n",
    "args['x2'] = args['x2'] + x\n",
    "args['y1'] = args['y1'] + y\n",
    "args['y2'] = args['y2'] + y\n",
    "\n",
    "args['width']=args['x2']-args['x1']\n",
    "args['height']=args['y2']-args['y1']\n",
    "\n",
    "# draw_single_img(args,args['pos_case'])\n",
    "print('width',args['width'])\n",
    "print('height',args['height'])\n",
    "check_default = 0\n",
    "# draw_single_img(args2,args2['pos_case'])"
   ]
  },
  {
   "cell_type": "code",
   "execution_count": null,
   "metadata": {},
   "outputs": [],
   "source": [
    "rows=2\n",
    "cols=5\n",
    "sample_ct=rows*cols\n",
    "\n",
    "draw_multi_img(args,args['pos_case'],sample_ct,rows,cols)"
   ]
  },
  {
   "cell_type": "code",
   "execution_count": null,
   "metadata": {},
   "outputs": [],
   "source": [
    "with open(os.path.join(path, args['prod']+'/roi_config/roi_config_'+position+'.yaml'), 'w') as fp:\n",
    "    c_prod=dict()\n",
    "    c_prod[position]=args\n",
    "    yaml.dump(c_prod, fp)\n",
    "check_default = 1"
   ]
  }
 ],
 "metadata": {
  "kernelspec": {
   "display_name": "Python 3",
   "language": "python",
   "name": "python3"
  },
  "language_info": {
   "codemirror_mode": {
    "name": "ipython",
    "version": 3
   },
   "file_extension": ".py",
   "mimetype": "text/x-python",
   "name": "python",
   "nbconvert_exporter": "python",
   "pygments_lexer": "ipython3",
   "version": "3.6.9"
  }
 },
 "nbformat": 4,
 "nbformat_minor": 4
}
